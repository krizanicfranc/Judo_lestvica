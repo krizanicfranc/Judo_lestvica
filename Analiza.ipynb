{
 "cells": [
  {
   "cell_type": "markdown",
   "metadata": {},
   "source": [
<<<<<<< HEAD
    "Uvozi"
=======
    " Uvozi"
>>>>>>> 0d57f45b7c7d1a11883efd69f06e853d1e050d38
   ]
  },
  {
   "cell_type": "code",
<<<<<<< HEAD
   "execution_count": 4,
=======
   "execution_count": 6,
>>>>>>> 0d57f45b7c7d1a11883efd69f06e853d1e050d38
   "metadata": {
    "collapsed": true
   },
   "outputs": [],
   "source": [
    "import pandas as pd\n",
    "%matplotlib inline"
   ]
  },
  {
   "cell_type": "markdown",
   "metadata": {},
   "source": [
    "Razpredelnice"
   ]
  },
  {
   "cell_type": "code",
<<<<<<< HEAD
   "execution_count": 82,
   "metadata": {
    "collapsed": true
   },
   "outputs": [],
   "source": [
    "jud = pd.read_csv('judoke.csv', index_col='id')\n",
    "med = pd.read_csv('medalje.csv', index_col='id')\n",
=======
   "execution_count": 47,
   "metadata": {
    "collapsed": false
   },
   "outputs": [],
   "source": [
    "judoke = pd.read_csv('judoke.csv')#, index_col='id')\n",
    "medalje = pd.read_csv('medalje.csv')#, index_col='id')\n",
>>>>>>> 0d57f45b7c7d1a11883efd69f06e853d1e050d38
    "\n",
    "# ker bomo delali z velikimi razpredelnicami, povemo, da naj se vedno izpiše le 16 vrstic in stolpcev\n",
    "pd.options.display.max_rows = 15\n",
    "pd.options.display.max_columns = 16"
   ]
  },
  {
   "cell_type": "code",
<<<<<<< HEAD
   "execution_count": 144,
=======
   "execution_count": 48,
>>>>>>> 0d57f45b7c7d1a11883efd69f06e853d1e050d38
   "metadata": {
    "collapsed": false
   },
   "outputs": [
    {
     "data": {
      "text/html": [
       "<div>\n",
       "<table border=\"1\" class=\"dataframe\">\n",
       "  <thead>\n",
       "    <tr style=\"text-align: right;\">\n",
       "      <th></th>\n",
<<<<<<< HEAD
=======
       "      <th>id</th>\n",
>>>>>>> 0d57f45b7c7d1a11883efd69f06e853d1e050d38
       "      <th>ime</th>\n",
       "      <th>drzava</th>\n",
       "      <th>tocke</th>\n",
       "    </tr>\n",
<<<<<<< HEAD
       "    <tr>\n",
       "      <th>id</th>\n",
       "      <th></th>\n",
       "      <th></th>\n",
       "      <th></th>\n",
       "    </tr>\n",
       "  </thead>\n",
       "  <tbody>\n",
       "    <tr>\n",
       "      <th>385</th>\n",
=======
       "  </thead>\n",
       "  <tbody>\n",
       "    <tr>\n",
       "      <th>0</th>\n",
       "      <td>385</td>\n",
>>>>>>> 0d57f45b7c7d1a11883efd69f06e853d1e050d38
       "      <td>RINER Teddy</td>\n",
       "      <td>FRA</td>\n",
       "      <td>3250</td>\n",
       "    </tr>\n",
       "    <tr>\n",
<<<<<<< HEAD
       "      <th>11651</th>\n",
=======
       "      <th>1</th>\n",
       "      <td>11651</td>\n",
>>>>>>> 0d57f45b7c7d1a11883efd69f06e853d1e050d38
       "      <td>HARASAWA Hisayoshi</td>\n",
       "      <td>JPN</td>\n",
       "      <td>2830</td>\n",
       "    </tr>\n",
       "    <tr>\n",
<<<<<<< HEAD
       "      <th>3278</th>\n",
=======
       "      <th>2</th>\n",
       "      <td>3278</td>\n",
>>>>>>> 0d57f45b7c7d1a11883efd69f06e853d1e050d38
       "      <td>SASSON Or</td>\n",
       "      <td>ISR</td>\n",
       "      <td>1992</td>\n",
       "    </tr>\n",
       "    <tr>\n",
<<<<<<< HEAD
       "      <th>3393</th>\n",
=======
       "      <th>3</th>\n",
       "      <td>3393</td>\n",
>>>>>>> 0d57f45b7c7d1a11883efd69f06e853d1e050d38
       "      <td>NATEA Daniel</td>\n",
       "      <td>ROU</td>\n",
       "      <td>1930</td>\n",
       "    </tr>\n",
       "    <tr>\n",
<<<<<<< HEAD
       "      <th>3394</th>\n",
=======
       "      <th>4</th>\n",
       "      <td>3394</td>\n",
>>>>>>> 0d57f45b7c7d1a11883efd69f06e853d1e050d38
       "      <td>MEYER Roy</td>\n",
       "      <td>NED</td>\n",
       "      <td>1862</td>\n",
       "    </tr>\n",
       "    <tr>\n",
<<<<<<< HEAD
       "      <th>14698</th>\n",
=======
       "      <th>5</th>\n",
       "      <td>14698</td>\n",
>>>>>>> 0d57f45b7c7d1a11883efd69f06e853d1e050d38
       "      <td>KHAMMO Iakiv</td>\n",
       "      <td>UKR</td>\n",
       "      <td>1820</td>\n",
       "    </tr>\n",
       "    <tr>\n",
<<<<<<< HEAD
       "      <th>245</th>\n",
=======
       "      <th>6</th>\n",
       "      <td>245</td>\n",
>>>>>>> 0d57f45b7c7d1a11883efd69f06e853d1e050d38
       "      <td>BOR Barna</td>\n",
       "      <td>HUN</td>\n",
       "      <td>1492</td>\n",
       "    </tr>\n",
       "    <tr>\n",
       "      <th>...</th>\n",
       "      <td>...</td>\n",
       "      <td>...</td>\n",
       "      <td>...</td>\n",
<<<<<<< HEAD
       "    </tr>\n",
       "    <tr>\n",
       "      <th>12230</th>\n",
=======
       "      <td>...</td>\n",
       "    </tr>\n",
       "    <tr>\n",
       "      <th>3393</th>\n",
       "      <td>12230</td>\n",
>>>>>>> 0d57f45b7c7d1a11883efd69f06e853d1e050d38
       "      <td>TOPRAK Firdevs</td>\n",
       "      <td>TUR</td>\n",
       "      <td>1</td>\n",
       "    </tr>\n",
       "    <tr>\n",
<<<<<<< HEAD
       "      <th>10944</th>\n",
=======
       "      <th>3394</th>\n",
       "      <td>10944</td>\n",
>>>>>>> 0d57f45b7c7d1a11883efd69f06e853d1e050d38
       "      <td>ALVAREZ Graciela</td>\n",
       "      <td>ARG</td>\n",
       "      <td>1</td>\n",
       "    </tr>\n",
       "    <tr>\n",
<<<<<<< HEAD
       "      <th>12148</th>\n",
=======
       "      <th>3395</th>\n",
       "      <td>12148</td>\n",
>>>>>>> 0d57f45b7c7d1a11883efd69f06e853d1e050d38
       "      <td>BONILLA Luisa</td>\n",
       "      <td>COL</td>\n",
       "      <td>1</td>\n",
       "    </tr>\n",
       "    <tr>\n",
<<<<<<< HEAD
       "      <th>12732</th>\n",
=======
       "      <th>3396</th>\n",
       "      <td>12732</td>\n",
>>>>>>> 0d57f45b7c7d1a11883efd69f06e853d1e050d38
       "      <td>WANGECHI Ceciliah</td>\n",
       "      <td>KEN</td>\n",
       "      <td>1</td>\n",
       "    </tr>\n",
       "    <tr>\n",
<<<<<<< HEAD
       "      <th>15252</th>\n",
=======
       "      <th>3397</th>\n",
       "      <td>15252</td>\n",
>>>>>>> 0d57f45b7c7d1a11883efd69f06e853d1e050d38
       "      <td>ATUVAHA Marie genevieve</td>\n",
       "      <td>NCL</td>\n",
       "      <td>1</td>\n",
       "    </tr>\n",
       "    <tr>\n",
<<<<<<< HEAD
       "      <th>16237</th>\n",
=======
       "      <th>3398</th>\n",
       "      <td>16237</td>\n",
>>>>>>> 0d57f45b7c7d1a11883efd69f06e853d1e050d38
       "      <td>BOGNINI Germaine</td>\n",
       "      <td>BUR</td>\n",
       "      <td>1</td>\n",
       "    </tr>\n",
       "    <tr>\n",
<<<<<<< HEAD
       "      <th>22587</th>\n",
=======
       "      <th>3399</th>\n",
       "      <td>22587</td>\n",
>>>>>>> 0d57f45b7c7d1a11883efd69f06e853d1e050d38
       "      <td>VINITA Vinita</td>\n",
       "      <td>IND</td>\n",
       "      <td>1</td>\n",
       "    </tr>\n",
       "  </tbody>\n",
       "</table>\n",
<<<<<<< HEAD
       "<p>3400 rows × 3 columns</p>\n",
       "</div>"
      ],
      "text/plain": [
       "                           ime drzava  tocke\n",
       "id                                          \n",
       "385                RINER Teddy    FRA   3250\n",
       "11651       HARASAWA Hisayoshi    JPN   2830\n",
       "3278                 SASSON Or    ISR   1992\n",
       "3393              NATEA Daniel    ROU   1930\n",
       "3394                 MEYER Roy    NED   1862\n",
       "14698             KHAMMO Iakiv    UKR   1820\n",
       "245                  BOR Barna    HUN   1492\n",
       "...                        ...    ...    ...\n",
       "12230           TOPRAK Firdevs    TUR      1\n",
       "10944         ALVAREZ Graciela    ARG      1\n",
       "12148            BONILLA Luisa    COL      1\n",
       "12732        WANGECHI Ceciliah    KEN      1\n",
       "15252  ATUVAHA Marie genevieve    NCL      1\n",
       "16237         BOGNINI Germaine    BUR      1\n",
       "22587            VINITA Vinita    IND      1\n",
       "\n",
       "[3400 rows x 3 columns]"
      ]
     },
     "execution_count": 144,
=======
       "<p>3400 rows × 4 columns</p>\n",
       "</div>"
      ],
      "text/plain": [
       "         id                      ime drzava  tocke\n",
       "0       385              RINER Teddy    FRA   3250\n",
       "1     11651       HARASAWA Hisayoshi    JPN   2830\n",
       "2      3278                SASSON Or    ISR   1992\n",
       "3      3393             NATEA Daniel    ROU   1930\n",
       "4      3394                MEYER Roy    NED   1862\n",
       "5     14698             KHAMMO Iakiv    UKR   1820\n",
       "6       245                BOR Barna    HUN   1492\n",
       "...     ...                      ...    ...    ...\n",
       "3393  12230           TOPRAK Firdevs    TUR      1\n",
       "3394  10944         ALVAREZ Graciela    ARG      1\n",
       "3395  12148            BONILLA Luisa    COL      1\n",
       "3396  12732        WANGECHI Ceciliah    KEN      1\n",
       "3397  15252  ATUVAHA Marie genevieve    NCL      1\n",
       "3398  16237         BOGNINI Germaine    BUR      1\n",
       "3399  22587            VINITA Vinita    IND      1\n",
       "\n",
       "[3400 rows x 4 columns]"
      ]
     },
     "execution_count": 48,
>>>>>>> 0d57f45b7c7d1a11883efd69f06e853d1e050d38
     "metadata": {},
     "output_type": "execute_result"
    }
   ],
   "source": [
<<<<<<< HEAD
    "jud"
=======
    "judoke"
>>>>>>> 0d57f45b7c7d1a11883efd69f06e853d1e050d38
   ]
  },
  {
   "cell_type": "code",
<<<<<<< HEAD
   "execution_count": 145,
=======
   "execution_count": 49,
>>>>>>> 0d57f45b7c7d1a11883efd69f06e853d1e050d38
   "metadata": {
    "collapsed": false
   },
   "outputs": [
    {
     "data": {
      "text/html": [
       "<div>\n",
       "<table border=\"1\" class=\"dataframe\">\n",
       "  <thead>\n",
       "    <tr style=\"text-align: right;\">\n",
       "      <th></th>\n",
<<<<<<< HEAD
=======
       "      <th>id</th>\n",
>>>>>>> 0d57f45b7c7d1a11883efd69f06e853d1e050d38
       "      <th>zlato</th>\n",
       "      <th>srebro</th>\n",
       "      <th>bron</th>\n",
       "    </tr>\n",
<<<<<<< HEAD
       "    <tr>\n",
       "      <th>id</th>\n",
       "      <th></th>\n",
       "      <th></th>\n",
       "      <th></th>\n",
       "    </tr>\n",
       "  </thead>\n",
       "  <tbody>\n",
       "    <tr>\n",
       "      <th>6998</th>\n",
=======
       "  </thead>\n",
       "  <tbody>\n",
       "    <tr>\n",
       "      <th>0</th>\n",
       "      <td>6998</td>\n",
>>>>>>> 0d57f45b7c7d1a11883efd69f06e853d1e050d38
       "      <td>0</td>\n",
       "      <td>0</td>\n",
       "      <td>0</td>\n",
       "    </tr>\n",
       "    <tr>\n",
<<<<<<< HEAD
       "      <th>4525</th>\n",
=======
       "      <th>1</th>\n",
       "      <td>4525</td>\n",
>>>>>>> 0d57f45b7c7d1a11883efd69f06e853d1e050d38
       "      <td>0</td>\n",
       "      <td>0</td>\n",
       "      <td>0</td>\n",
       "    </tr>\n",
       "    <tr>\n",
<<<<<<< HEAD
       "      <th>13770</th>\n",
=======
       "      <th>2</th>\n",
       "      <td>13770</td>\n",
>>>>>>> 0d57f45b7c7d1a11883efd69f06e853d1e050d38
       "      <td>0</td>\n",
       "      <td>0</td>\n",
       "      <td>0</td>\n",
       "    </tr>\n",
       "    <tr>\n",
<<<<<<< HEAD
       "      <th>15969</th>\n",
=======
       "      <th>3</th>\n",
       "      <td>15969</td>\n",
>>>>>>> 0d57f45b7c7d1a11883efd69f06e853d1e050d38
       "      <td>0</td>\n",
       "      <td>0</td>\n",
       "      <td>0</td>\n",
       "    </tr>\n",
       "    <tr>\n",
<<<<<<< HEAD
       "      <th>9187</th>\n",
=======
       "      <th>4</th>\n",
       "      <td>9187</td>\n",
>>>>>>> 0d57f45b7c7d1a11883efd69f06e853d1e050d38
       "      <td>0</td>\n",
       "      <td>0</td>\n",
       "      <td>0</td>\n",
       "    </tr>\n",
       "    <tr>\n",
<<<<<<< HEAD
       "      <th>2317</th>\n",
=======
       "      <th>5</th>\n",
       "      <td>2317</td>\n",
>>>>>>> 0d57f45b7c7d1a11883efd69f06e853d1e050d38
       "      <td>0</td>\n",
       "      <td>1</td>\n",
       "      <td>0</td>\n",
       "    </tr>\n",
       "    <tr>\n",
<<<<<<< HEAD
       "      <th>1039</th>\n",
=======
       "      <th>6</th>\n",
       "      <td>1039</td>\n",
>>>>>>> 0d57f45b7c7d1a11883efd69f06e853d1e050d38
       "      <td>0</td>\n",
       "      <td>0</td>\n",
       "      <td>2</td>\n",
       "    </tr>\n",
       "    <tr>\n",
       "      <th>...</th>\n",
       "      <td>...</td>\n",
       "      <td>...</td>\n",
       "      <td>...</td>\n",
<<<<<<< HEAD
       "    </tr>\n",
       "    <tr>\n",
       "      <th>26373</th>\n",
=======
       "      <td>...</td>\n",
       "    </tr>\n",
       "    <tr>\n",
       "      <th>502</th>\n",
       "      <td>26373</td>\n",
>>>>>>> 0d57f45b7c7d1a11883efd69f06e853d1e050d38
       "      <td>0</td>\n",
       "      <td>0</td>\n",
       "      <td>0</td>\n",
       "    </tr>\n",
       "    <tr>\n",
<<<<<<< HEAD
       "      <th>9361</th>\n",
=======
       "      <th>503</th>\n",
       "      <td>9361</td>\n",
>>>>>>> 0d57f45b7c7d1a11883efd69f06e853d1e050d38
       "      <td>0</td>\n",
       "      <td>0</td>\n",
       "      <td>0</td>\n",
       "    </tr>\n",
       "    <tr>\n",
<<<<<<< HEAD
       "      <th>2968</th>\n",
=======
       "      <th>504</th>\n",
       "      <td>2968</td>\n",
>>>>>>> 0d57f45b7c7d1a11883efd69f06e853d1e050d38
       "      <td>0</td>\n",
       "      <td>0</td>\n",
       "      <td>0</td>\n",
       "    </tr>\n",
       "    <tr>\n",
<<<<<<< HEAD
       "      <th>11708</th>\n",
=======
       "      <th>505</th>\n",
       "      <td>11708</td>\n",
>>>>>>> 0d57f45b7c7d1a11883efd69f06e853d1e050d38
       "      <td>0</td>\n",
       "      <td>0</td>\n",
       "      <td>0</td>\n",
       "    </tr>\n",
       "    <tr>\n",
<<<<<<< HEAD
       "      <th>7009</th>\n",
=======
       "      <th>506</th>\n",
       "      <td>7009</td>\n",
>>>>>>> 0d57f45b7c7d1a11883efd69f06e853d1e050d38
       "      <td>0</td>\n",
       "      <td>0</td>\n",
       "      <td>0</td>\n",
       "    </tr>\n",
       "    <tr>\n",
<<<<<<< HEAD
       "      <th>12564</th>\n",
=======
       "      <th>507</th>\n",
       "      <td>12564</td>\n",
>>>>>>> 0d57f45b7c7d1a11883efd69f06e853d1e050d38
       "      <td>0</td>\n",
       "      <td>0</td>\n",
       "      <td>0</td>\n",
       "    </tr>\n",
       "    <tr>\n",
<<<<<<< HEAD
       "      <th>1012</th>\n",
=======
       "      <th>508</th>\n",
       "      <td>1012</td>\n",
>>>>>>> 0d57f45b7c7d1a11883efd69f06e853d1e050d38
       "      <td>0</td>\n",
       "      <td>0</td>\n",
       "      <td>0</td>\n",
       "    </tr>\n",
       "  </tbody>\n",
       "</table>\n",
<<<<<<< HEAD
       "<p>509 rows × 3 columns</p>\n",
       "</div>"
      ],
      "text/plain": [
       "       zlato  srebro  bron\n",
       "id                        \n",
       "6998       0       0     0\n",
       "4525       0       0     0\n",
       "13770      0       0     0\n",
       "15969      0       0     0\n",
       "9187       0       0     0\n",
       "2317       0       1     0\n",
       "1039       0       0     2\n",
       "...      ...     ...   ...\n",
       "26373      0       0     0\n",
       "9361       0       0     0\n",
       "2968       0       0     0\n",
       "11708      0       0     0\n",
       "7009       0       0     0\n",
       "12564      0       0     0\n",
       "1012       0       0     0\n",
       "\n",
       "[509 rows x 3 columns]"
      ]
     },
     "execution_count": 145,
=======
       "<p>509 rows × 4 columns</p>\n",
       "</div>"
      ],
      "text/plain": [
       "        id  zlato  srebro  bron\n",
       "0     6998      0       0     0\n",
       "1     4525      0       0     0\n",
       "2    13770      0       0     0\n",
       "3    15969      0       0     0\n",
       "4     9187      0       0     0\n",
       "5     2317      0       1     0\n",
       "6     1039      0       0     2\n",
       "..     ...    ...     ...   ...\n",
       "502  26373      0       0     0\n",
       "503   9361      0       0     0\n",
       "504   2968      0       0     0\n",
       "505  11708      0       0     0\n",
       "506   7009      0       0     0\n",
       "507  12564      0       0     0\n",
       "508   1012      0       0     0\n",
       "\n",
       "[509 rows x 4 columns]"
      ]
     },
     "execution_count": 49,
>>>>>>> 0d57f45b7c7d1a11883efd69f06e853d1e050d38
     "metadata": {},
     "output_type": "execute_result"
    }
   ],
   "source": [
<<<<<<< HEAD
    "med"
=======
    "medalje"
>>>>>>> 0d57f45b7c7d1a11883efd69f06e853d1e050d38
   ]
  },
  {
   "cell_type": "code",
<<<<<<< HEAD
   "execution_count": 146,
   "metadata": {
    "collapsed": true
   },
   "outputs": [],
   "source": [
    "skupaj = pd.concat([jud, med], axis=1, join_axes=[jud.index]).fillna(0)"
=======
   "execution_count": 51,
   "metadata": {
    "collapsed": false
   },
   "outputs": [],
   "source": [
    "db=pd.merge(judoke, medalje)"
>>>>>>> 0d57f45b7c7d1a11883efd69f06e853d1e050d38
   ]
  },
  {
   "cell_type": "code",
<<<<<<< HEAD
   "execution_count": 147,
=======
   "execution_count": 52,
>>>>>>> 0d57f45b7c7d1a11883efd69f06e853d1e050d38
   "metadata": {
    "collapsed": false
   },
   "outputs": [
    {
     "data": {
      "text/html": [
       "<div>\n",
       "<table border=\"1\" class=\"dataframe\">\n",
       "  <thead>\n",
       "    <tr style=\"text-align: right;\">\n",
       "      <th></th>\n",
<<<<<<< HEAD
=======
       "      <th>id</th>\n",
>>>>>>> 0d57f45b7c7d1a11883efd69f06e853d1e050d38
       "      <th>ime</th>\n",
       "      <th>drzava</th>\n",
       "      <th>tocke</th>\n",
       "      <th>zlato</th>\n",
       "      <th>srebro</th>\n",
       "      <th>bron</th>\n",
       "    </tr>\n",
<<<<<<< HEAD
       "    <tr>\n",
       "      <th>id</th>\n",
       "      <th></th>\n",
       "      <th></th>\n",
       "      <th></th>\n",
       "      <th></th>\n",
       "      <th></th>\n",
       "      <th></th>\n",
       "    </tr>\n",
       "  </thead>\n",
       "  <tbody>\n",
       "    <tr>\n",
       "      <th>385</th>\n",
       "      <td>RINER Teddy</td>\n",
       "      <td>FRA</td>\n",
       "      <td>3250</td>\n",
       "      <td>2.0</td>\n",
       "      <td>0.0</td>\n",
       "      <td>0.0</td>\n",
       "    </tr>\n",
       "    <tr>\n",
       "      <th>11651</th>\n",
       "      <td>HARASAWA Hisayoshi</td>\n",
       "      <td>JPN</td>\n",
       "      <td>2830</td>\n",
       "      <td>0.0</td>\n",
       "      <td>1.0</td>\n",
       "      <td>0.0</td>\n",
       "    </tr>\n",
       "    <tr>\n",
       "      <th>3278</th>\n",
       "      <td>SASSON Or</td>\n",
       "      <td>ISR</td>\n",
       "      <td>1992</td>\n",
       "      <td>0.0</td>\n",
       "      <td>0.0</td>\n",
       "      <td>1.0</td>\n",
       "    </tr>\n",
       "    <tr>\n",
       "      <th>3393</th>\n",
       "      <td>NATEA Daniel</td>\n",
       "      <td>ROU</td>\n",
       "      <td>1930</td>\n",
       "      <td>0.0</td>\n",
       "      <td>0.0</td>\n",
       "      <td>0.0</td>\n",
       "    </tr>\n",
       "    <tr>\n",
       "      <th>3394</th>\n",
       "      <td>MEYER Roy</td>\n",
       "      <td>NED</td>\n",
       "      <td>1862</td>\n",
       "      <td>0.0</td>\n",
       "      <td>0.0</td>\n",
       "      <td>0.0</td>\n",
       "    </tr>\n",
       "    <tr>\n",
       "      <th>14698</th>\n",
       "      <td>KHAMMO Iakiv</td>\n",
       "      <td>UKR</td>\n",
       "      <td>1820</td>\n",
       "      <td>0.0</td>\n",
       "      <td>0.0</td>\n",
       "      <td>0.0</td>\n",
       "    </tr>\n",
       "    <tr>\n",
       "      <th>245</th>\n",
       "      <td>BOR Barna</td>\n",
       "      <td>HUN</td>\n",
       "      <td>1492</td>\n",
       "      <td>0.0</td>\n",
       "      <td>0.0</td>\n",
       "      <td>0.0</td>\n",
=======
       "  </thead>\n",
       "  <tbody>\n",
       "    <tr>\n",
       "      <th>0</th>\n",
       "      <td>385</td>\n",
       "      <td>RINER Teddy</td>\n",
       "      <td>FRA</td>\n",
       "      <td>3250</td>\n",
       "      <td>2</td>\n",
       "      <td>0</td>\n",
       "      <td>0</td>\n",
       "    </tr>\n",
       "    <tr>\n",
       "      <th>1</th>\n",
       "      <td>11651</td>\n",
       "      <td>HARASAWA Hisayoshi</td>\n",
       "      <td>JPN</td>\n",
       "      <td>2830</td>\n",
       "      <td>0</td>\n",
       "      <td>1</td>\n",
       "      <td>0</td>\n",
       "    </tr>\n",
       "    <tr>\n",
       "      <th>2</th>\n",
       "      <td>3278</td>\n",
       "      <td>SASSON Or</td>\n",
       "      <td>ISR</td>\n",
       "      <td>1992</td>\n",
       "      <td>0</td>\n",
       "      <td>0</td>\n",
       "      <td>1</td>\n",
       "    </tr>\n",
       "    <tr>\n",
       "      <th>3</th>\n",
       "      <td>3393</td>\n",
       "      <td>NATEA Daniel</td>\n",
       "      <td>ROU</td>\n",
       "      <td>1930</td>\n",
       "      <td>0</td>\n",
       "      <td>0</td>\n",
       "      <td>0</td>\n",
       "    </tr>\n",
       "    <tr>\n",
       "      <th>4</th>\n",
       "      <td>3394</td>\n",
       "      <td>MEYER Roy</td>\n",
       "      <td>NED</td>\n",
       "      <td>1862</td>\n",
       "      <td>0</td>\n",
       "      <td>0</td>\n",
       "      <td>0</td>\n",
       "    </tr>\n",
       "    <tr>\n",
       "      <th>5</th>\n",
       "      <td>14698</td>\n",
       "      <td>KHAMMO Iakiv</td>\n",
       "      <td>UKR</td>\n",
       "      <td>1820</td>\n",
       "      <td>0</td>\n",
       "      <td>0</td>\n",
       "      <td>0</td>\n",
       "    </tr>\n",
       "    <tr>\n",
       "      <th>6</th>\n",
       "      <td>245</td>\n",
       "      <td>BOR Barna</td>\n",
       "      <td>HUN</td>\n",
       "      <td>1492</td>\n",
       "      <td>0</td>\n",
       "      <td>0</td>\n",
       "      <td>0</td>\n",
>>>>>>> 0d57f45b7c7d1a11883efd69f06e853d1e050d38
       "    </tr>\n",
       "    <tr>\n",
       "      <th>...</th>\n",
       "      <td>...</td>\n",
       "      <td>...</td>\n",
       "      <td>...</td>\n",
       "      <td>...</td>\n",
       "      <td>...</td>\n",
       "      <td>...</td>\n",
<<<<<<< HEAD
       "    </tr>\n",
       "    <tr>\n",
       "      <th>12230</th>\n",
       "      <td>TOPRAK Firdevs</td>\n",
       "      <td>TUR</td>\n",
       "      <td>1</td>\n",
       "      <td>0.0</td>\n",
       "      <td>0.0</td>\n",
       "      <td>0.0</td>\n",
       "    </tr>\n",
       "    <tr>\n",
       "      <th>10944</th>\n",
       "      <td>ALVAREZ Graciela</td>\n",
       "      <td>ARG</td>\n",
       "      <td>1</td>\n",
       "      <td>0.0</td>\n",
       "      <td>0.0</td>\n",
       "      <td>0.0</td>\n",
       "    </tr>\n",
       "    <tr>\n",
       "      <th>12148</th>\n",
       "      <td>BONILLA Luisa</td>\n",
       "      <td>COL</td>\n",
       "      <td>1</td>\n",
       "      <td>0.0</td>\n",
       "      <td>0.0</td>\n",
       "      <td>0.0</td>\n",
       "    </tr>\n",
       "    <tr>\n",
       "      <th>12732</th>\n",
       "      <td>WANGECHI Ceciliah</td>\n",
       "      <td>KEN</td>\n",
       "      <td>1</td>\n",
       "      <td>0.0</td>\n",
       "      <td>0.0</td>\n",
       "      <td>0.0</td>\n",
       "    </tr>\n",
       "    <tr>\n",
       "      <th>15252</th>\n",
       "      <td>ATUVAHA Marie genevieve</td>\n",
       "      <td>NCL</td>\n",
       "      <td>1</td>\n",
       "      <td>0.0</td>\n",
       "      <td>0.0</td>\n",
       "      <td>0.0</td>\n",
       "    </tr>\n",
       "    <tr>\n",
       "      <th>16237</th>\n",
       "      <td>BOGNINI Germaine</td>\n",
       "      <td>BUR</td>\n",
       "      <td>1</td>\n",
       "      <td>0.0</td>\n",
       "      <td>0.0</td>\n",
       "      <td>0.0</td>\n",
       "    </tr>\n",
       "    <tr>\n",
       "      <th>22587</th>\n",
       "      <td>VINITA Vinita</td>\n",
       "      <td>IND</td>\n",
       "      <td>1</td>\n",
       "      <td>0.0</td>\n",
       "      <td>0.0</td>\n",
       "      <td>0.0</td>\n",
       "    </tr>\n",
       "  </tbody>\n",
       "</table>\n",
       "<p>3400 rows × 6 columns</p>\n",
       "</div>"
      ],
      "text/plain": [
       "                           ime drzava  tocke  zlato  srebro  bron\n",
       "id                                                               \n",
       "385                RINER Teddy    FRA   3250    2.0     0.0   0.0\n",
       "11651       HARASAWA Hisayoshi    JPN   2830    0.0     1.0   0.0\n",
       "3278                 SASSON Or    ISR   1992    0.0     0.0   1.0\n",
       "3393              NATEA Daniel    ROU   1930    0.0     0.0   0.0\n",
       "3394                 MEYER Roy    NED   1862    0.0     0.0   0.0\n",
       "14698             KHAMMO Iakiv    UKR   1820    0.0     0.0   0.0\n",
       "245                  BOR Barna    HUN   1492    0.0     0.0   0.0\n",
       "...                        ...    ...    ...    ...     ...   ...\n",
       "12230           TOPRAK Firdevs    TUR      1    0.0     0.0   0.0\n",
       "10944         ALVAREZ Graciela    ARG      1    0.0     0.0   0.0\n",
       "12148            BONILLA Luisa    COL      1    0.0     0.0   0.0\n",
       "12732        WANGECHI Ceciliah    KEN      1    0.0     0.0   0.0\n",
       "15252  ATUVAHA Marie genevieve    NCL      1    0.0     0.0   0.0\n",
       "16237         BOGNINI Germaine    BUR      1    0.0     0.0   0.0\n",
       "22587            VINITA Vinita    IND      1    0.0     0.0   0.0\n",
       "\n",
       "[3400 rows x 6 columns]"
      ]
     },
     "execution_count": 147,
     "metadata": {},
     "output_type": "execute_result"
    }
   ],
   "source": [
    "skupaj"
   ]
  },
  {
   "cell_type": "code",
   "execution_count": 148,
   "metadata": {
    "collapsed": false
   },
   "outputs": [
    {
     "data": {
      "text/html": [
       "<div>\n",
       "<table border=\"1\" class=\"dataframe\">\n",
       "  <thead>\n",
       "    <tr style=\"text-align: right;\">\n",
       "      <th></th>\n",
       "      <th>tocke</th>\n",
       "      <th>srebro</th>\n",
       "      <th>bron</th>\n",
       "    </tr>\n",
       "    <tr>\n",
       "      <th>zlato</th>\n",
       "      <th></th>\n",
       "      <th></th>\n",
       "      <th></th>\n",
       "    </tr>\n",
       "  </thead>\n",
       "  <tbody>\n",
       "    <tr>\n",
       "      <th>0.0</th>\n",
       "      <td>721059</td>\n",
       "      <td>23.0</td>\n",
       "      <td>46.0</td>\n",
       "    </tr>\n",
       "    <tr>\n",
       "      <th>1.0</th>\n",
       "      <td>40451</td>\n",
       "      <td>1.0</td>\n",
       "      <td>2.0</td>\n",
       "    </tr>\n",
       "    <tr>\n",
       "      <th>2.0</th>\n",
       "      <td>7620</td>\n",
       "      <td>0.0</td>\n",
       "      <td>0.0</td>\n",
       "    </tr>\n",
       "  </tbody>\n",
       "</table>\n",
       "</div>"
      ],
      "text/plain": [
       "        tocke  srebro  bron\n",
       "zlato                      \n",
       "0.0    721059    23.0  46.0\n",
       "1.0     40451     1.0   2.0\n",
       "2.0      7620     0.0   0.0"
      ]
     },
     "execution_count": 148,
     "metadata": {},
     "output_type": "execute_result"
    }
   ],
   "source": [
    "skupaj.groupby(['zlato']).sum()#krneki"
   ]
  },
  {
   "cell_type": "code",
   "execution_count": 149,
   "metadata": {
    "collapsed": false
   },
   "outputs": [
    {
     "data": {
      "text/html": [
       "<div>\n",
       "<table border=\"1\" class=\"dataframe\">\n",
       "  <thead>\n",
       "    <tr style=\"text-align: right;\">\n",
       "      <th></th>\n",
       "      <th>ime</th>\n",
       "      <th>drzava</th>\n",
       "      <th>tocke</th>\n",
       "      <th>zlato</th>\n",
       "      <th>srebro</th>\n",
       "      <th>bron</th>\n",
       "    </tr>\n",
       "    <tr>\n",
       "      <th>id</th>\n",
       "      <th></th>\n",
       "      <th></th>\n",
       "      <th></th>\n",
       "      <th></th>\n",
       "      <th></th>\n",
       "      <th></th>\n",
       "    </tr>\n",
       "  </thead>\n",
       "  <tbody>\n",
       "    <tr>\n",
       "      <th>54</th>\n",
       "      <td>HARRISON Kayla</td>\n",
       "      <td>USA</td>\n",
       "      <td>4370</td>\n",
       "      <td>2.0</td>\n",
       "      <td>0.0</td>\n",
       "      <td>0.0</td>\n",
       "    </tr>\n",
       "    <tr>\n",
       "      <th>1336</th>\n",
       "      <td>TRSTENJAK Tina</td>\n",
       "      <td>SLO</td>\n",
       "      <td>4050</td>\n",
       "      <td>1.0</td>\n",
       "      <td>0.0</td>\n",
       "      <td>0.0</td>\n",
       "    </tr>\n",
       "    <tr>\n",
       "      <th>1540</th>\n",
       "      <td>DORJSUREN Sumiya</td>\n",
       "      <td>MGL</td>\n",
       "      <td>3550</td>\n",
       "      <td>0.0</td>\n",
       "      <td>1.0</td>\n",
       "      <td>0.0</td>\n",
       "    </tr>\n",
       "    <tr>\n",
       "      <th>385</th>\n",
       "      <td>RINER Teddy</td>\n",
       "      <td>FRA</td>\n",
       "      <td>3250</td>\n",
       "      <td>2.0</td>\n",
       "      <td>0.0</td>\n",
       "      <td>0.0</td>\n",
       "    </tr>\n",
       "    <tr>\n",
       "      <th>11273</th>\n",
       "      <td>KELMENDI Majlinda</td>\n",
       "      <td>KOS</td>\n",
       "      <td>3200</td>\n",
       "      <td>1.0</td>\n",
       "      <td>0.0</td>\n",
       "      <td>0.0</td>\n",
       "    </tr>\n",
       "    <tr>\n",
       "      <th>9713</th>\n",
       "      <td>AN Baul</td>\n",
       "      <td>KOR</td>\n",
       "      <td>3180</td>\n",
       "      <td>0.0</td>\n",
       "      <td>1.0</td>\n",
       "      <td>0.0</td>\n",
       "    </tr>\n",
       "    <tr>\n",
       "      <th>951</th>\n",
       "      <td>ORTIZ Idalys</td>\n",
       "      <td>CUB</td>\n",
       "      <td>3146</td>\n",
       "      <td>1.0</td>\n",
       "      <td>1.0</td>\n",
       "      <td>0.0</td>\n",
       "    </tr>\n",
       "    <tr>\n",
       "      <th>...</th>\n",
       "      <td>...</td>\n",
       "      <td>...</td>\n",
       "      <td>...</td>\n",
       "      <td>...</td>\n",
       "      <td>...</td>\n",
       "      <td>...</td>\n",
       "    </tr>\n",
       "    <tr>\n",
       "      <th>21811</th>\n",
       "      <td>MOSSILO NZELEKET Erika marielle</td>\n",
       "      <td>CGO</td>\n",
       "      <td>1</td>\n",
       "      <td>0.0</td>\n",
       "      <td>0.0</td>\n",
       "      <td>0.0</td>\n",
       "    </tr>\n",
       "    <tr>\n",
       "      <th>21713</th>\n",
       "      <td>ELALMI Hadeel</td>\n",
       "      <td>JOR</td>\n",
       "      <td>1</td>\n",
       "      <td>0.0</td>\n",
       "      <td>0.0</td>\n",
       "      <td>0.0</td>\n",
       "    </tr>\n",
       "    <tr>\n",
       "      <th>17922</th>\n",
       "      <td>BIEDERMANN Judith</td>\n",
       "      <td>LIE</td>\n",
       "      <td>1</td>\n",
       "      <td>0.0</td>\n",
       "      <td>0.0</td>\n",
       "      <td>0.0</td>\n",
       "    </tr>\n",
       "    <tr>\n",
       "      <th>15850</th>\n",
       "      <td>NARAS Loana</td>\n",
       "      <td>PYF</td>\n",
       "      <td>1</td>\n",
       "      <td>0.0</td>\n",
       "      <td>0.0</td>\n",
       "      <td>0.0</td>\n",
       "    </tr>\n",
       "    <tr>\n",
       "      <th>12139</th>\n",
       "      <td>LUCUMI Tatiana</td>\n",
       "      <td>COL</td>\n",
       "      <td>1</td>\n",
       "      <td>0.0</td>\n",
       "      <td>0.0</td>\n",
       "      <td>0.0</td>\n",
       "    </tr>\n",
       "    <tr>\n",
       "      <th>7094</th>\n",
       "      <td>SU Yu-jou</td>\n",
       "      <td>TPE</td>\n",
       "      <td>1</td>\n",
       "      <td>0.0</td>\n",
       "      <td>0.0</td>\n",
       "      <td>0.0</td>\n",
       "    </tr>\n",
       "    <tr>\n",
       "      <th>22587</th>\n",
       "      <td>VINITA Vinita</td>\n",
       "      <td>IND</td>\n",
       "      <td>1</td>\n",
       "      <td>0.0</td>\n",
       "      <td>0.0</td>\n",
       "      <td>0.0</td>\n",
       "    </tr>\n",
       "  </tbody>\n",
       "</table>\n",
       "<p>3400 rows × 6 columns</p>\n",
       "</div>"
      ],
      "text/plain": [
       "                                   ime drzava  tocke  zlato  srebro  bron\n",
       "id                                                                       \n",
       "54                      HARRISON Kayla    USA   4370    2.0     0.0   0.0\n",
       "1336                    TRSTENJAK Tina    SLO   4050    1.0     0.0   0.0\n",
       "1540                  DORJSUREN Sumiya    MGL   3550    0.0     1.0   0.0\n",
       "385                        RINER Teddy    FRA   3250    2.0     0.0   0.0\n",
       "11273                KELMENDI Majlinda    KOS   3200    1.0     0.0   0.0\n",
       "9713                           AN Baul    KOR   3180    0.0     1.0   0.0\n",
       "951                       ORTIZ Idalys    CUB   3146    1.0     1.0   0.0\n",
       "...                                ...    ...    ...    ...     ...   ...\n",
       "21811  MOSSILO NZELEKET Erika marielle    CGO      1    0.0     0.0   0.0\n",
       "21713                    ELALMI Hadeel    JOR      1    0.0     0.0   0.0\n",
       "17922                BIEDERMANN Judith    LIE      1    0.0     0.0   0.0\n",
       "15850                      NARAS Loana    PYF      1    0.0     0.0   0.0\n",
       "12139                   LUCUMI Tatiana    COL      1    0.0     0.0   0.0\n",
       "7094                         SU Yu-jou    TPE      1    0.0     0.0   0.0\n",
       "22587                    VINITA Vinita    IND      1    0.0     0.0   0.0\n",
       "\n",
       "[3400 rows x 6 columns]"
      ]
     },
     "execution_count": 149,
=======
       "      <td>...</td>\n",
       "    </tr>\n",
       "    <tr>\n",
       "      <th>520</th>\n",
       "      <td>1622</td>\n",
       "      <td>POGORZELEC Daria</td>\n",
       "      <td>POL</td>\n",
       "      <td>680</td>\n",
       "      <td>0</td>\n",
       "      <td>0</td>\n",
       "      <td>0</td>\n",
       "    </tr>\n",
       "    <tr>\n",
       "      <th>521</th>\n",
       "      <td>7231</td>\n",
       "      <td>MBALLA ATANGANA Hortence vanessa</td>\n",
       "      <td>CMR</td>\n",
       "      <td>625</td>\n",
       "      <td>0</td>\n",
       "      <td>0</td>\n",
       "      <td>0</td>\n",
       "    </tr>\n",
       "    <tr>\n",
       "      <th>522</th>\n",
       "      <td>181</td>\n",
       "      <td>RAMIREZ Yahima</td>\n",
       "      <td>POR</td>\n",
       "      <td>465</td>\n",
       "      <td>0</td>\n",
       "      <td>0</td>\n",
       "      <td>0</td>\n",
       "    </tr>\n",
       "    <tr>\n",
       "      <th>523</th>\n",
       "      <td>1352</td>\n",
       "      <td>OGATA Akari</td>\n",
       "      <td>JPN</td>\n",
       "      <td>410</td>\n",
       "      <td>0</td>\n",
       "      <td>0</td>\n",
       "      <td>0</td>\n",
       "    </tr>\n",
       "    <tr>\n",
       "      <th>524</th>\n",
       "      <td>665</td>\n",
       "      <td>THIELE Kerstin</td>\n",
       "      <td>GER</td>\n",
       "      <td>208</td>\n",
       "      <td>0</td>\n",
       "      <td>1</td>\n",
       "      <td>0</td>\n",
       "    </tr>\n",
       "    <tr>\n",
       "      <th>525</th>\n",
       "      <td>371</td>\n",
       "      <td>MOSKALYUK Vera</td>\n",
       "      <td>RUS</td>\n",
       "      <td>130</td>\n",
       "      <td>0</td>\n",
       "      <td>0</td>\n",
       "      <td>0</td>\n",
       "    </tr>\n",
       "    <tr>\n",
       "      <th>526</th>\n",
       "      <td>61</td>\n",
       "      <td>JEONG Gyeong-Mi</td>\n",
       "      <td>KOR</td>\n",
       "      <td>50</td>\n",
       "      <td>0</td>\n",
       "      <td>0</td>\n",
       "      <td>0</td>\n",
       "    </tr>\n",
       "  </tbody>\n",
       "</table>\n",
       "<p>527 rows × 7 columns</p>\n",
       "</div>"
      ],
      "text/plain": [
       "        id                               ime drzava  tocke  zlato  srebro  \\\n",
       "0      385                       RINER Teddy    FRA   3250      2       0   \n",
       "1    11651                HARASAWA Hisayoshi    JPN   2830      0       1   \n",
       "2     3278                         SASSON Or    ISR   1992      0       0   \n",
       "3     3393                      NATEA Daniel    ROU   1930      0       0   \n",
       "4     3394                         MEYER Roy    NED   1862      0       0   \n",
       "5    14698                      KHAMMO Iakiv    UKR   1820      0       0   \n",
       "6      245                         BOR Barna    HUN   1492      0       0   \n",
       "..     ...                               ...    ...    ...    ...     ...   \n",
       "520   1622                  POGORZELEC Daria    POL    680      0       0   \n",
       "521   7231  MBALLA ATANGANA Hortence vanessa    CMR    625      0       0   \n",
       "522    181                    RAMIREZ Yahima    POR    465      0       0   \n",
       "523   1352                       OGATA Akari    JPN    410      0       0   \n",
       "524    665                    THIELE Kerstin    GER    208      0       1   \n",
       "525    371                    MOSKALYUK Vera    RUS    130      0       0   \n",
       "526     61                   JEONG Gyeong-Mi    KOR     50      0       0   \n",
       "\n",
       "     bron  \n",
       "0       0  \n",
       "1       0  \n",
       "2       1  \n",
       "3       0  \n",
       "4       0  \n",
       "5       0  \n",
       "6       0  \n",
       "..    ...  \n",
       "520     0  \n",
       "521     0  \n",
       "522     0  \n",
       "523     0  \n",
       "524     0  \n",
       "525     0  \n",
       "526     0  \n",
       "\n",
       "[527 rows x 7 columns]"
      ]
     },
     "execution_count": 52,
>>>>>>> 0d57f45b7c7d1a11883efd69f06e853d1e050d38
     "metadata": {},
     "output_type": "execute_result"
    }
   ],
   "source": [
<<<<<<< HEAD
    "skupaj.sort_values('tocke', ascending = False)"
=======
    "db"
>>>>>>> 0d57f45b7c7d1a11883efd69f06e853d1e050d38
   ]
  },
  {
   "cell_type": "code",
<<<<<<< HEAD
   "execution_count": 150,
   "metadata": {
    "collapsed": false
   },
   "outputs": [
    {
     "data": {
      "text/plain": [
       "zlato     2\n",
       "srebro    0\n",
       "bron      0\n",
       "Name: 385, dtype: int64"
      ]
     },
     "execution_count": 150,
     "metadata": {},
     "output_type": "execute_result"
    }
   ],
   "source": [
    "med.loc[385]"
   ]
  },
  {
   "cell_type": "code",
   "execution_count": 151,
   "metadata": {
    "collapsed": true
   },
   "outputs": [],
   "source": [
    "ZMed = med['zlato']\n",
    "SMed = med['srebro']\n",
    "BMed = med['bron']"
   ]
  },
  {
   "cell_type": "code",
   "execution_count": 152,
   "metadata": {
    "collapsed": false
   },
   "outputs": [
    {
     "data": {
      "text/plain": [
       "id\n",
       "6998     0\n",
       "4525     0\n",
       "13770    0\n",
       "15969    0\n",
       "9187     0\n",
       "2317     1\n",
       "1039     2\n",
       "        ..\n",
       "26373    0\n",
       "9361     0\n",
       "2968     0\n",
       "11708    0\n",
       "7009     0\n",
       "12564    0\n",
       "1012     0\n",
       "dtype: int64"
      ]
     },
     "execution_count": 152,
     "metadata": {},
     "output_type": "execute_result"
    }
   ],
   "source": [
    "sumM = ZMed + SMed + BMed\n",
    "sumM"
   ]
  },
  {
   "cell_type": "code",
   "execution_count": 153,
   "metadata": {
    "collapsed": true
   },
   "outputs": [],
   "source": [
    "skupaj['st_medalj'] = sumM"
   ]
  },
  {
   "cell_type": "code",
   "execution_count": 157,
   "metadata": {
    "collapsed": false
   },
   "outputs": [],
   "source": [
    "skupaj=skupaj.fillna(0)"
   ]
  },
  {
   "cell_type": "code",
   "execution_count": 163,
   "metadata": {
    "collapsed": false
   },
   "outputs": [
    {
     "data": {
      "text/plain": [
       "id\n",
       "2317     1\n",
       "1039     2\n",
       "738      2\n",
       "9713     1\n",
       "2313     1\n",
       "15143    1\n",
       "3470     1\n",
       "        ..\n",
       "1841     1\n",
       "1274     1\n",
       "326      1\n",
       "2394     1\n",
       "1335     1\n",
       "2491     1\n",
       "2114     1\n",
       "dtype: int64"
      ]
     },
     "execution_count": 163,
     "metadata": {},
     "output_type": "execute_result"
    }
   ],
   "source": [
    "sumM[sumM != 0]"
   ]
  },
  {
   "cell_type": "code",
   "execution_count": 194,
   "metadata": {
    "collapsed": false
   },
   "outputs": [
    {
     "data": {
      "text/plain": [
       "id\n",
       "385      1625.0\n",
       "11651    2830.0\n",
       "3278     1992.0\n",
       "3393        0.0\n",
       "3394        0.0\n",
       "14698       0.0\n",
       "245         0.0\n",
       "          ...  \n",
       "12230       0.0\n",
       "10944       0.0\n",
       "12148       0.0\n",
       "12732       0.0\n",
       "15252       0.0\n",
       "16237       0.0\n",
       "22587       0.0\n",
       "dtype: float64"
      ]
     },
     "execution_count": 194,
     "metadata": {},
     "output_type": "execute_result"
    }
   ],
   "source": [
    "razmerje = (skupaj['tocke']/skupaj['st_medalj']).replace('inf', 0)\n",
    "razmerje"
   ]
  },
  {
   "cell_type": "code",
   "execution_count": 188,
   "metadata": {
    "collapsed": false,
    "scrolled": true
   },
   "outputs": [],
   "source": [
    "skupaj2 = pd.concat([jud, razmerje], axis=1, join_axes=[jud.index]).fillna(0)"
   ]
  },
  {
   "cell_type": "code",
   "execution_count": 198,
   "metadata": {
    "collapsed": false
   },
   "outputs": [],
   "source": [
    "drzave = skupaj.groupby('drzava')"
   ]
  },
  {
   "cell_type": "code",
   "execution_count": 216,
   "metadata": {
    "collapsed": false
   },
   "outputs": [
    {
     "data": {
      "text/html": [
       "<div>\n",
       "<table border=\"1\" class=\"dataframe\">\n",
       "  <thead>\n",
       "    <tr style=\"text-align: right;\">\n",
       "      <th></th>\n",
       "      <th>tocke</th>\n",
       "      <th>zlato</th>\n",
       "      <th>srebro</th>\n",
       "      <th>bron</th>\n",
       "      <th>st_medalj</th>\n",
       "    </tr>\n",
       "    <tr>\n",
       "      <th>drzava</th>\n",
       "      <th></th>\n",
       "      <th></th>\n",
       "      <th></th>\n",
       "      <th></th>\n",
       "      <th></th>\n",
       "    </tr>\n",
       "  </thead>\n",
       "  <tbody>\n",
       "    <tr>\n",
       "      <th>GBS</th>\n",
       "      <td>1460.000000</td>\n",
       "      <td>0.000000</td>\n",
       "      <td>0.000000</td>\n",
       "      <td>0.000000</td>\n",
       "      <td>0.000000</td>\n",
       "    </tr>\n",
       "    <tr>\n",
       "      <th>KOS</th>\n",
       "      <td>720.750000</td>\n",
       "      <td>0.125000</td>\n",
       "      <td>0.000000</td>\n",
       "      <td>0.000000</td>\n",
       "      <td>0.125000</td>\n",
       "    </tr>\n",
       "    <tr>\n",
       "      <th>JPN</th>\n",
       "      <td>610.313043</td>\n",
       "      <td>0.034783</td>\n",
       "      <td>0.017391</td>\n",
       "      <td>0.078261</td>\n",
       "      <td>0.130435</td>\n",
       "    </tr>\n",
       "    <tr>\n",
       "      <th>NED</th>\n",
       "      <td>526.795455</td>\n",
       "      <td>0.000000</td>\n",
       "      <td>0.000000</td>\n",
       "      <td>0.045455</td>\n",
       "      <td>0.045455</td>\n",
       "    </tr>\n",
       "    <tr>\n",
       "      <th>MGL</th>\n",
       "      <td>468.698630</td>\n",
       "      <td>0.000000</td>\n",
       "      <td>0.027397</td>\n",
       "      <td>0.013699</td>\n",
       "      <td>0.041096</td>\n",
       "    </tr>\n",
       "    <tr>\n",
       "      <th>CUB</th>\n",
       "      <td>411.647059</td>\n",
       "      <td>0.029412</td>\n",
       "      <td>0.088235</td>\n",
       "      <td>0.000000</td>\n",
       "      <td>0.117647</td>\n",
       "    </tr>\n",
       "    <tr>\n",
       "      <th>BEL</th>\n",
       "      <td>411.291667</td>\n",
       "      <td>0.000000</td>\n",
       "      <td>0.000000</td>\n",
       "      <td>0.083333</td>\n",
       "      <td>0.083333</td>\n",
       "    </tr>\n",
       "    <tr>\n",
       "      <th>...</th>\n",
       "      <td>...</td>\n",
       "      <td>...</td>\n",
       "      <td>...</td>\n",
       "      <td>...</td>\n",
       "      <td>...</td>\n",
       "    </tr>\n",
       "    <tr>\n",
       "      <th>ASA</th>\n",
       "      <td>2.000000</td>\n",
       "      <td>0.000000</td>\n",
       "      <td>0.000000</td>\n",
       "      <td>0.000000</td>\n",
       "      <td>0.000000</td>\n",
       "    </tr>\n",
       "    <tr>\n",
       "      <th>RWA</th>\n",
       "      <td>2.000000</td>\n",
       "      <td>0.000000</td>\n",
       "      <td>0.000000</td>\n",
       "      <td>0.000000</td>\n",
       "      <td>0.000000</td>\n",
       "    </tr>\n",
       "    <tr>\n",
       "      <th>PLW</th>\n",
       "      <td>1.000000</td>\n",
       "      <td>0.000000</td>\n",
       "      <td>0.000000</td>\n",
       "      <td>0.000000</td>\n",
       "      <td>0.000000</td>\n",
       "    </tr>\n",
       "    <tr>\n",
       "      <th>CAF</th>\n",
       "      <td>1.000000</td>\n",
       "      <td>0.000000</td>\n",
       "      <td>0.000000</td>\n",
       "      <td>0.000000</td>\n",
       "      <td>0.000000</td>\n",
       "    </tr>\n",
       "    <tr>\n",
       "      <th>BAN</th>\n",
       "      <td>1.000000</td>\n",
       "      <td>0.000000</td>\n",
       "      <td>0.000000</td>\n",
       "      <td>0.000000</td>\n",
       "      <td>0.000000</td>\n",
       "    </tr>\n",
       "    <tr>\n",
       "      <th>MAC</th>\n",
       "      <td>1.000000</td>\n",
       "      <td>0.000000</td>\n",
       "      <td>0.000000</td>\n",
       "      <td>0.000000</td>\n",
       "      <td>0.000000</td>\n",
       "    </tr>\n",
       "    <tr>\n",
       "      <th>ETH</th>\n",
       "      <td>1.000000</td>\n",
       "      <td>0.000000</td>\n",
       "      <td>0.000000</td>\n",
       "      <td>0.000000</td>\n",
       "      <td>0.000000</td>\n",
       "    </tr>\n",
       "  </tbody>\n",
       "</table>\n",
       "<p>164 rows × 5 columns</p>\n",
       "</div>"
      ],
      "text/plain": [
       "              tocke     zlato    srebro      bron  st_medalj\n",
       "drzava                                                      \n",
       "GBS     1460.000000  0.000000  0.000000  0.000000   0.000000\n",
       "KOS      720.750000  0.125000  0.000000  0.000000   0.125000\n",
       "JPN      610.313043  0.034783  0.017391  0.078261   0.130435\n",
       "NED      526.795455  0.000000  0.000000  0.045455   0.045455\n",
       "MGL      468.698630  0.000000  0.027397  0.013699   0.041096\n",
       "CUB      411.647059  0.029412  0.088235  0.000000   0.117647\n",
       "BEL      411.291667  0.000000  0.000000  0.083333   0.083333\n",
       "...             ...       ...       ...       ...        ...\n",
       "ASA        2.000000  0.000000  0.000000  0.000000   0.000000\n",
       "RWA        2.000000  0.000000  0.000000  0.000000   0.000000\n",
       "PLW        1.000000  0.000000  0.000000  0.000000   0.000000\n",
       "CAF        1.000000  0.000000  0.000000  0.000000   0.000000\n",
       "BAN        1.000000  0.000000  0.000000  0.000000   0.000000\n",
       "MAC        1.000000  0.000000  0.000000  0.000000   0.000000\n",
       "ETH        1.000000  0.000000  0.000000  0.000000   0.000000\n",
       "\n",
       "[164 rows x 5 columns]"
      ]
     },
     "execution_count": 216,
     "metadata": {},
     "output_type": "execute_result"
    }
   ],
   "source": [
    "povprecje = drzave.mean().sort_values('tocke', ascending = False)\n",
    "povprecje"
   ]
  },
  {
   "cell_type": "markdown",
   "metadata": {},
   "source": []
  },
  {
   "cell_type": "code",
   "execution_count": 219,
   "metadata": {
    "collapsed": false
   },
   "outputs": [
    {
     "data": {
      "text/html": [
       "<div>\n",
       "<table border=\"1\" class=\"dataframe\">\n",
       "  <thead>\n",
       "    <tr style=\"text-align: right;\">\n",
       "      <th></th>\n",
       "      <th>tocke</th>\n",
       "      <th>zlato</th>\n",
       "      <th>srebro</th>\n",
       "      <th>bron</th>\n",
       "      <th>st_medalj</th>\n",
       "    </tr>\n",
       "    <tr>\n",
       "      <th>drzava</th>\n",
       "      <th></th>\n",
       "      <th></th>\n",
       "      <th></th>\n",
       "      <th></th>\n",
       "      <th></th>\n",
       "    </tr>\n",
       "  </thead>\n",
       "  <tbody>\n",
       "    <tr>\n",
       "      <th>JPN</th>\n",
       "      <td>610.313043</td>\n",
       "      <td>0.034783</td>\n",
       "      <td>0.017391</td>\n",
       "      <td>0.078261</td>\n",
       "      <td>0.130435</td>\n",
       "    </tr>\n",
       "    <tr>\n",
       "      <th>KOS</th>\n",
       "      <td>720.750000</td>\n",
       "      <td>0.125000</td>\n",
       "      <td>0.000000</td>\n",
       "      <td>0.000000</td>\n",
       "      <td>0.125000</td>\n",
       "    </tr>\n",
       "    <tr>\n",
       "      <th>CUB</th>\n",
       "      <td>411.647059</td>\n",
       "      <td>0.029412</td>\n",
       "      <td>0.088235</td>\n",
       "      <td>0.000000</td>\n",
       "      <td>0.117647</td>\n",
       "    </tr>\n",
       "    <tr>\n",
       "      <th>COL</th>\n",
       "      <td>148.190476</td>\n",
       "      <td>0.000000</td>\n",
       "      <td>0.047619</td>\n",
       "      <td>0.047619</td>\n",
       "      <td>0.095238</td>\n",
       "    </tr>\n",
       "    <tr>\n",
       "      <th>GRE</th>\n",
       "      <td>285.272727</td>\n",
       "      <td>0.000000</td>\n",
       "      <td>0.000000</td>\n",
       "      <td>0.090909</td>\n",
       "      <td>0.090909</td>\n",
       "    </tr>\n",
       "    <tr>\n",
       "      <th>BRA</th>\n",
       "      <td>341.506173</td>\n",
       "      <td>0.024691</td>\n",
       "      <td>0.000000</td>\n",
       "      <td>0.061728</td>\n",
       "      <td>0.086420</td>\n",
       "    </tr>\n",
       "    <tr>\n",
       "      <th>BEL</th>\n",
       "      <td>411.291667</td>\n",
       "      <td>0.000000</td>\n",
       "      <td>0.000000</td>\n",
       "      <td>0.083333</td>\n",
       "      <td>0.083333</td>\n",
       "    </tr>\n",
       "    <tr>\n",
       "      <th>...</th>\n",
       "      <td>...</td>\n",
       "      <td>...</td>\n",
       "      <td>...</td>\n",
       "      <td>...</td>\n",
       "      <td>...</td>\n",
       "    </tr>\n",
       "    <tr>\n",
       "      <th>TJK</th>\n",
       "      <td>102.909091</td>\n",
       "      <td>0.000000</td>\n",
       "      <td>0.000000</td>\n",
       "      <td>0.000000</td>\n",
       "      <td>0.000000</td>\n",
       "    </tr>\n",
       "    <tr>\n",
       "      <th>ZAM</th>\n",
       "      <td>103.500000</td>\n",
       "      <td>0.000000</td>\n",
       "      <td>0.000000</td>\n",
       "      <td>0.000000</td>\n",
       "      <td>0.000000</td>\n",
       "    </tr>\n",
       "    <tr>\n",
       "      <th>RSA</th>\n",
       "      <td>104.833333</td>\n",
       "      <td>0.000000</td>\n",
       "      <td>0.000000</td>\n",
       "      <td>0.000000</td>\n",
       "      <td>0.000000</td>\n",
       "    </tr>\n",
       "    <tr>\n",
       "      <th>LUX</th>\n",
       "      <td>107.000000</td>\n",
       "      <td>0.000000</td>\n",
       "      <td>0.000000</td>\n",
       "      <td>0.000000</td>\n",
       "      <td>0.000000</td>\n",
       "    </tr>\n",
       "    <tr>\n",
       "      <th>GAM</th>\n",
       "      <td>107.000000</td>\n",
       "      <td>0.000000</td>\n",
       "      <td>0.000000</td>\n",
       "      <td>0.000000</td>\n",
       "      <td>0.000000</td>\n",
       "    </tr>\n",
       "    <tr>\n",
       "      <th>IRI</th>\n",
       "      <td>109.789474</td>\n",
       "      <td>0.000000</td>\n",
       "      <td>0.000000</td>\n",
       "      <td>0.000000</td>\n",
       "      <td>0.000000</td>\n",
       "    </tr>\n",
       "    <tr>\n",
       "      <th>ETH</th>\n",
       "      <td>1.000000</td>\n",
       "      <td>0.000000</td>\n",
       "      <td>0.000000</td>\n",
       "      <td>0.000000</td>\n",
       "      <td>0.000000</td>\n",
       "    </tr>\n",
       "  </tbody>\n",
       "</table>\n",
       "<p>164 rows × 5 columns</p>\n",
       "</div>"
      ],
      "text/plain": [
       "             tocke     zlato    srebro      bron  st_medalj\n",
       "drzava                                                     \n",
       "JPN     610.313043  0.034783  0.017391  0.078261   0.130435\n",
       "KOS     720.750000  0.125000  0.000000  0.000000   0.125000\n",
       "CUB     411.647059  0.029412  0.088235  0.000000   0.117647\n",
       "COL     148.190476  0.000000  0.047619  0.047619   0.095238\n",
       "GRE     285.272727  0.000000  0.000000  0.090909   0.090909\n",
       "BRA     341.506173  0.024691  0.000000  0.061728   0.086420\n",
       "BEL     411.291667  0.000000  0.000000  0.083333   0.083333\n",
       "...            ...       ...       ...       ...        ...\n",
       "TJK     102.909091  0.000000  0.000000  0.000000   0.000000\n",
       "ZAM     103.500000  0.000000  0.000000  0.000000   0.000000\n",
       "RSA     104.833333  0.000000  0.000000  0.000000   0.000000\n",
       "LUX     107.000000  0.000000  0.000000  0.000000   0.000000\n",
       "GAM     107.000000  0.000000  0.000000  0.000000   0.000000\n",
       "IRI     109.789474  0.000000  0.000000  0.000000   0.000000\n",
       "ETH       1.000000  0.000000  0.000000  0.000000   0.000000\n",
       "\n",
       "[164 rows x 5 columns]"
      ]
     },
     "execution_count": 219,
     "metadata": {},
     "output_type": "execute_result"
    }
   ],
   "source": [
    "povprecje.sort_values('st_medalj', ascending = False)"
   ]
  },
  {
   "cell_type": "markdown",
   "metadata": {},
   "source": []
  },
  {
   "cell_type": "code",
=======
>>>>>>> 0d57f45b7c7d1a11883efd69f06e853d1e050d38
   "execution_count": null,
   "metadata": {
    "collapsed": true
   },
   "outputs": [],
   "source": []
  }
 ],
 "metadata": {
<<<<<<< HEAD
  "anaconda-cloud": {},
  "kernelspec": {
   "display_name": "Python [default]",
=======
  "kernelspec": {
   "display_name": "Python 3",
>>>>>>> 0d57f45b7c7d1a11883efd69f06e853d1e050d38
   "language": "python",
   "name": "python3"
  },
  "language_info": {
   "codemirror_mode": {
    "name": "ipython",
    "version": 3
   },
   "file_extension": ".py",
   "mimetype": "text/x-python",
   "name": "python",
   "nbconvert_exporter": "python",
   "pygments_lexer": "ipython3",
<<<<<<< HEAD
   "version": "3.5.2"
=======
   "version": "3.5.1"
>>>>>>> 0d57f45b7c7d1a11883efd69f06e853d1e050d38
  }
 },
 "nbformat": 4,
 "nbformat_minor": 1
}
