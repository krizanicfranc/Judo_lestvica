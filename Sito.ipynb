{
 "cells": [
  {
   "cell_type": "markdown",
   "metadata": {},
   "source": [
    "Orodja"
   ]
  },
  {
   "cell_type": "code",
   "execution_count": 4,
   "metadata": {
    "collapsed": true
   },
   "outputs": [],
   "source": [
    "import csv\n",
    "import os\n",
    "import requests\n",
    "import sys\n",
    "import re\n",
    "\n",
    "\n",
    "def pripravi_imenik(ime_datoteke):\n",
    "    '''Če še ne obstaja, pripravi prazen imenik za dano datoteko.'''\n",
    "    imenik = os.path.dirname(ime_datoteke)\n",
    "    if imenik:\n",
    "        os.makedirs(imenik, exist_ok=True)\n",
    "\n",
    "\n",
    "def shrani(url, ime_datoteke, vsili_prenos=False):\n",
    "    '''Vsebino strani na danem naslovu shrani v datoteko z danim imenom.'''\n",
    "    try:\n",
    "        print('Shranjujem {}...'.format(url), end='')\n",
    "        sys.stdout.flush()\n",
    "        if os.path.isfile(ime_datoteke) and not vsili_prenos:\n",
    "            print('shranjeno že od prej!')\n",
    "            return\n",
    "        r = requests.get(url)\n",
    "    except requests.exceptions.ConnectionError:\n",
    "        print('stran ne obstaja!')\n",
    "    else:\n",
    "        pripravi_imenik(ime_datoteke)\n",
    "        with open(ime_datoteke, 'w') as datoteka:\n",
    "            datoteka.write(r.text)\n",
    "            print('shranjeno!')\n",
    "\n",
    "\n",
    "def vsebina_datoteke(ime_datoteke):\n",
    "    '''Vrne niz z vsebino datoteke z danim imenom.'''\n",
    "    with open(ime_datoteke) as datoteka:\n",
    "        vsebina = datoteka.read()\n",
    "    return vsebina\n",
    "\n",
    "\n",
    "def datoteke(imenik):\n",
    "    '''Vrne imena vseh datotek v danem imeniku skupaj z imenom imenika.'''\n",
    "    return [os.path.join(imenik, datoteka) for datoteka in os.listdir(imenik)]\n",
    "\n",
    "\n",
    "def zapisi_tabelo(slovarji, imena_polj, ime_datoteke):\n",
    "    '''Iz seznama slovarjev ustvari CSV datoteko z glavo.'''\n",
    "    pripravi_imenik(ime_datoteke)\n",
    "    with open(ime_datoteke, 'w') as csv_dat:\n",
    "        writer = csv.DictWriter(csv_dat, fieldnames=imena_polj)\n",
    "        writer.writeheader()\n",
    "        for slovar in slovarji:\n",
    "            writer.writerow(slovar)"
   ]
  },
  {
   "cell_type": "markdown",
   "metadata": {},
   "source": [
    "Funkcija, ki z regularnimi izrazi izlušči podatke iz html kode"
   ]
  },
  {
   "cell_type": "code",
   "execution_count": 36,
   "metadata": {
    "collapsed": false
   },
   "outputs": [],
   "source": [
    "regex_db = re.compile(\n",
    "        r'<a href=\"(?P<povezava>/athlete/\\d+)\">\\s*(?P<ime>.*?\\s.*?)\\s*</a>'  \n",
    "        r'.*?<img src=\"https:.*?<small>(?P<drzava>.*?)</small>'\n",
    "        r'.*?<td class=\"text-center\">\\s*(?P<tocke>\\d+) points\\s*</td>'\n",
    "        ,flags=re.DOTALL\n",
    ")\n",
    "\n",
    "def pocisti_ime(judoka):\n",
    "    podatki = judoka.groupdict()\n",
    "    podatki['ime'].capitalize()\n",
    "    podatki['ime'] = re.sub('\\s+',' ',podatki['ime'])\n",
    "        \n",
    "    return podatki\n",
    "\n",
    "def pripravi_db():   \n",
    "    judoke = []\n",
    "    for dat in datoteke('JUDO/'):\n",
    "        \n",
    "        for judoka in re.finditer(regex_db, vsebina_datoteke(dat)):\n",
    "\n",
    "            #print (pocisti_ime(judoka))\n",
    "            judoke.append(pocisti_ime(judoka))\n",
    "\n",
    "    zapisi_tabelo(judoke, ['povezava','ime', 'drzava', 'tocke'], 'judoke.csv')\n",
    "\n",
    "    \n",
    "pripravi_db()"
   ]
  },
  {
   "cell_type": "code",
   "execution_count": null,
   "metadata": {
    "collapsed": true
   },
   "outputs": [],
   "source": []
  }
 ],
 "metadata": {
  "anaconda-cloud": {},
  "kernelspec": {
   "display_name": "Python [default]",
   "language": "python",
   "name": "python3"
  },
  "language_info": {
   "codemirror_mode": {
    "name": "ipython",
    "version": 3
   },
   "file_extension": ".py",
   "mimetype": "text/x-python",
   "name": "python",
   "nbconvert_exporter": "python",
   "pygments_lexer": "ipython3",
   "version": "3.5.2"
  }
 },
 "nbformat": 4,
 "nbformat_minor": 1
}
