{
 "cells": [
  {
   "cell_type": "markdown",
   "metadata": {},
   "source": [
    "Funkciji k preneseta podatke s spleta"
   ]
  },
  {
   "cell_type": "markdown",
   "metadata": {
    "collapsed": true
   },
   "source": [
    "orodja:\n",
    "funkcije k nam jih je pripravil profersor"
   ]
  },
  {
   "cell_type": "code",
   "execution_count": 1,
   "metadata": {
    "collapsed": true
   },
   "outputs": [],
   "source": [
    "import csv\n",
    "import os\n",
    "import requests\n",
    "import sys\n",
    "import re\n",
    "\n",
    "\n",
    "def pripravi_imenik(ime_datoteke):\n",
    "    '''Če še ne obstaja, pripravi prazen imenik za dano datoteko.'''\n",
    "    imenik = os.path.dirname(ime_datoteke)\n",
    "    if imenik:\n",
    "        os.makedirs(imenik, exist_ok=True)\n",
    "\n",
    "\n",
    "def shrani(url, ime_datoteke, vsili_prenos=False):\n",
    "    '''Vsebino strani na danem naslovu shrani v datoteko z danim imenom.'''\n",
    "    try:\n",
    "        print('Shranjujem {}...'.format(url), end='')\n",
    "        sys.stdout.flush()\n",
    "        if os.path.isfile(ime_datoteke) and not vsili_prenos:\n",
    "            print('shranjeno že od prej!')\n",
    "            return\n",
    "        r = requests.get(url)\n",
    "    except requests.exceptions.ConnectionError:\n",
    "        print('stran ne obstaja!')\n",
    "    else:\n",
    "        pripravi_imenik(ime_datoteke)\n",
    "        with open(ime_datoteke, 'w') as datoteka:\n",
    "            datoteka.write(r.text)\n",
    "            print('shranjeno!')\n",
    "\n",
    "\n",
    "def vsebina_datoteke(ime_datoteke):\n",
    "    '''Vrne niz z vsebino datoteke z danim imenom.'''\n",
    "    with open(ime_datoteke) as datoteka:\n",
    "        vsebina = datoteka.read()\n",
    "    return vsebina\n",
    "\n",
    "\n",
    "def datoteke(imenik):\n",
    "    '''Vrne imena vseh datotek v danem imeniku skupaj z imenom imenika.'''\n",
    "    return [os.path.join(imenik, datoteka) for datoteka in os.listdir(imenik)]\n",
    "\n",
    "\n",
    "def zapisi_tabelo(slovarji, imena_polj, ime_datoteke):\n",
    "    '''Iz seznama slovarjev ustvari CSV datoteko z glavo.'''\n",
    "    pripravi_imenik(ime_datoteke)\n",
    "    with open(ime_datoteke, 'w') as csv_dat:\n",
    "        writer = csv.DictWriter(csv_dat, fieldnames=imena_polj)\n",
    "        writer.writeheader()\n",
    "        for slovar in slovarji:\n",
    "            writer.writerow(slovar)"
   ]
  },
  {
   "cell_type": "markdown",
   "metadata": {},
   "source": [
    "Slovar težnostnih kategorij glede na ijf"
   ]
  },
  {
   "cell_type": "code",
   "execution_count": 2,
   "metadata": {
    "collapsed": true
   },
   "outputs": [],
   "source": [
    "kateg={1:'-60kg', 2:'-66kg', 3:'-73kg', 4:'-81kg', 5:'-90kg', 6:'-100kg', 7:'+100kg',\n",
    "      8:'-48kg', 9:'-52kg', 10: '-57kg', 11:'-63kg', 12:'-70kg', 13:'-78kg', 14:'+78jg'}"
   ]
  },
  {
   "cell_type": "markdown",
   "metadata": {},
   "source": [
    "Funkcija, ki prenese html datoteke o ženskih borkah"
   ]
  },
  {
   "cell_type": "code",
   "execution_count": 3,
   "metadata": {
    "collapsed": true
   },
   "outputs": [],
   "source": [
    "def prenesi_w():\n",
    "    for teza in range(8,15):\n",
    "               \n",
    "        for stran in range(1, 15):\n",
    "            naslov='https://www.ijf.org/wrl?age=seniors&gender=m&id_weight={}&p={}'.format(teza, stran)\n",
    "            datoteka='JUDO\\w{}{:02}.html'.format(kateg[teza], stran)\n",
    "            shrani(naslov, datoteka)"
   ]
  },
  {
   "cell_type": "markdown",
   "metadata": {},
   "source": [
    "Funkcija, ki prenese html datoteke o moških borcih"
   ]
  },
  {
   "cell_type": "code",
   "execution_count": 4,
   "metadata": {
    "collapsed": true
   },
   "outputs": [],
   "source": [
    "def prenesi_m():\n",
    "    for teza in range(1,8):\n",
    "               \n",
    "        for stran in range(1, 15):\n",
    "            naslov='https://www.ijf.org/wrl?age=seniors&gender=m&id_weight={}&p={}'.format(teza, stran)\n",
    "            datoteka='JUDO\\m{}{:02}.html'.format(kateg[teza], stran)\n",
    "            shrani(naslov, datoteka)"
   ]
  },
  {
   "cell_type": "markdown",
   "metadata": {
    "collapsed": true
   },
   "source": [
    "Regularni izraz, ki najde: povezavo, ime, državo in točke posemezne borke/ca"
   ]
  }
 ],
 "metadata": {
  "anaconda-cloud": {},
  "kernelspec": {
   "display_name": "Python 3",
   "language": "python",
   "name": "python3"
  },
  "language_info": {
   "codemirror_mode": {
    "name": "ipython",
    "version": 3
   },
   "file_extension": ".py",
   "mimetype": "text/x-python",
   "name": "python",
   "nbconvert_exporter": "python",
   "pygments_lexer": "ipython3",
   "version": "3.5.1"
  }
 },
 "nbformat": 4,
 "nbformat_minor": 1
}
